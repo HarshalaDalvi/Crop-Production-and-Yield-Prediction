{
 "cells": [
  {
   "cell_type": "code",
   "execution_count": 1,
   "metadata": {},
   "outputs": [],
   "source": [
    "import pandas as pd\n",
    "import numpy as np\n",
    "from sklearn import model_selection\n",
    "from sklearn.linear_model import LinearRegression\n",
    "from sklearn.ensemble import GradientBoostingRegressor\n",
    "from sklearn.neighbors import KNeighborsRegressor\n",
    "from sklearn.tree import DecisionTreeRegressor\n",
    "from sklearn.ensemble import RandomForestRegressor\n",
    "from sklearn.metrics import r2_score\n",
    "from sklearn.model_selection import train_test_split\n",
    "from sklearn.metrics import mean_squared_error\n",
    "from math import sqrt\n",
    "import matplotlib.pyplot as plt\n",
    "from sklearn import metrics\n",
    "from sklearn.model_selection import cross_val_score, cross_val_predict"
   ]
  },
  {
   "cell_type": "code",
   "execution_count": 2,
   "metadata": {
    "scrolled": false
   },
   "outputs": [
    {
     "data": {
      "text/html": [
       "<div>\n",
       "<style scoped>\n",
       "    .dataframe tbody tr th:only-of-type {\n",
       "        vertical-align: middle;\n",
       "    }\n",
       "\n",
       "    .dataframe tbody tr th {\n",
       "        vertical-align: top;\n",
       "    }\n",
       "\n",
       "    .dataframe thead th {\n",
       "        text-align: right;\n",
       "    }\n",
       "</style>\n",
       "<table border=\"1\" class=\"dataframe\">\n",
       "  <thead>\n",
       "    <tr style=\"text-align: right;\">\n",
       "      <th></th>\n",
       "      <th>State_Name</th>\n",
       "      <th>District_Name</th>\n",
       "      <th>Crop_Year</th>\n",
       "      <th>Season</th>\n",
       "      <th>Crop</th>\n",
       "      <th>Area</th>\n",
       "      <th>Production</th>\n",
       "      <th>Yield</th>\n",
       "      <th>Rainfall..mm.</th>\n",
       "      <th>Soil Ph Level</th>\n",
       "      <th>high Temp</th>\n",
       "      <th>low Temp</th>\n",
       "      <th>MeanTemperature</th>\n",
       "      <th>Air humidity</th>\n",
       "    </tr>\n",
       "  </thead>\n",
       "  <tbody>\n",
       "    <tr>\n",
       "      <td>0</td>\n",
       "      <td>Maharashtra</td>\n",
       "      <td>SOLAPUR</td>\n",
       "      <td>2008</td>\n",
       "      <td>Kharif</td>\n",
       "      <td>Sugarcane</td>\n",
       "      <td>117500</td>\n",
       "      <td>9954400</td>\n",
       "      <td>84.72</td>\n",
       "      <td>916.9</td>\n",
       "      <td>2</td>\n",
       "      <td>40</td>\n",
       "      <td>14</td>\n",
       "      <td>26</td>\n",
       "      <td>59</td>\n",
       "    </tr>\n",
       "    <tr>\n",
       "      <td>1</td>\n",
       "      <td>Maharashtra</td>\n",
       "      <td>SOLAPUR</td>\n",
       "      <td>2008</td>\n",
       "      <td>Whole Year</td>\n",
       "      <td>Sugarcane</td>\n",
       "      <td>117500</td>\n",
       "      <td>9954400</td>\n",
       "      <td>84.72</td>\n",
       "      <td>916.9</td>\n",
       "      <td>2</td>\n",
       "      <td>40</td>\n",
       "      <td>14</td>\n",
       "      <td>26</td>\n",
       "      <td>59</td>\n",
       "    </tr>\n",
       "    <tr>\n",
       "      <td>2</td>\n",
       "      <td>Maharashtra</td>\n",
       "      <td>SOLAPUR</td>\n",
       "      <td>2009</td>\n",
       "      <td>Kharif</td>\n",
       "      <td>Sugarcane</td>\n",
       "      <td>107300</td>\n",
       "      <td>9932600</td>\n",
       "      <td>92.57</td>\n",
       "      <td>941.7</td>\n",
       "      <td>2</td>\n",
       "      <td>40</td>\n",
       "      <td>14</td>\n",
       "      <td>26</td>\n",
       "      <td>59</td>\n",
       "    </tr>\n",
       "    <tr>\n",
       "      <td>3</td>\n",
       "      <td>Uttar Pradesh</td>\n",
       "      <td>SITAPUR</td>\n",
       "      <td>2014</td>\n",
       "      <td>Kharif</td>\n",
       "      <td>Sugarcane</td>\n",
       "      <td>148655</td>\n",
       "      <td>9903396</td>\n",
       "      <td>66.62</td>\n",
       "      <td>486.9</td>\n",
       "      <td>1</td>\n",
       "      <td>43</td>\n",
       "      <td>38</td>\n",
       "      <td>32</td>\n",
       "      <td>71</td>\n",
       "    </tr>\n",
       "    <tr>\n",
       "      <td>4</td>\n",
       "      <td>Maharashtra</td>\n",
       "      <td>KOLHAPUR</td>\n",
       "      <td>2009</td>\n",
       "      <td>Kharif</td>\n",
       "      <td>Sugarcane</td>\n",
       "      <td>112700</td>\n",
       "      <td>9810000</td>\n",
       "      <td>87.05</td>\n",
       "      <td>941.7</td>\n",
       "      <td>2</td>\n",
       "      <td>36</td>\n",
       "      <td>13</td>\n",
       "      <td>24</td>\n",
       "      <td>67</td>\n",
       "    </tr>\n",
       "    <tr>\n",
       "      <td>...</td>\n",
       "      <td>...</td>\n",
       "      <td>...</td>\n",
       "      <td>...</td>\n",
       "      <td>...</td>\n",
       "      <td>...</td>\n",
       "      <td>...</td>\n",
       "      <td>...</td>\n",
       "      <td>...</td>\n",
       "      <td>...</td>\n",
       "      <td>...</td>\n",
       "      <td>...</td>\n",
       "      <td>...</td>\n",
       "      <td>...</td>\n",
       "      <td>...</td>\n",
       "    </tr>\n",
       "    <tr>\n",
       "      <td>41403</td>\n",
       "      <td>West Bengal</td>\n",
       "      <td>COOCHBEHAR</td>\n",
       "      <td>2011</td>\n",
       "      <td>Summer</td>\n",
       "      <td>Moong(Green Gram)</td>\n",
       "      <td>167</td>\n",
       "      <td>100</td>\n",
       "      <td>0.60</td>\n",
       "      <td>2418.7</td>\n",
       "      <td>0</td>\n",
       "      <td>34</td>\n",
       "      <td>29</td>\n",
       "      <td>26</td>\n",
       "      <td>77</td>\n",
       "    </tr>\n",
       "    <tr>\n",
       "      <td>41404</td>\n",
       "      <td>West Bengal</td>\n",
       "      <td>MURSHIDABAD</td>\n",
       "      <td>2013</td>\n",
       "      <td>Rabi</td>\n",
       "      <td>Arhar/Tur</td>\n",
       "      <td>69</td>\n",
       "      <td>100</td>\n",
       "      <td>1.45</td>\n",
       "      <td>2406.1</td>\n",
       "      <td>2</td>\n",
       "      <td>35</td>\n",
       "      <td>11</td>\n",
       "      <td>26</td>\n",
       "      <td>77</td>\n",
       "    </tr>\n",
       "    <tr>\n",
       "      <td>41405</td>\n",
       "      <td>West Bengal</td>\n",
       "      <td>24 PARAGANAS SOUTH</td>\n",
       "      <td>2014</td>\n",
       "      <td>Rabi</td>\n",
       "      <td>Linseed</td>\n",
       "      <td>208</td>\n",
       "      <td>100</td>\n",
       "      <td>0.48</td>\n",
       "      <td>2322.6</td>\n",
       "      <td>1</td>\n",
       "      <td>36</td>\n",
       "      <td>13</td>\n",
       "      <td>27</td>\n",
       "      <td>75</td>\n",
       "    </tr>\n",
       "    <tr>\n",
       "      <td>41406</td>\n",
       "      <td>West Bengal</td>\n",
       "      <td>COOCHBEHAR</td>\n",
       "      <td>2014</td>\n",
       "      <td>Summer</td>\n",
       "      <td>Sesamum</td>\n",
       "      <td>148</td>\n",
       "      <td>100</td>\n",
       "      <td>0.68</td>\n",
       "      <td>2322.6</td>\n",
       "      <td>0</td>\n",
       "      <td>34</td>\n",
       "      <td>29</td>\n",
       "      <td>26</td>\n",
       "      <td>77</td>\n",
       "    </tr>\n",
       "    <tr>\n",
       "      <td>41407</td>\n",
       "      <td>West Bengal</td>\n",
       "      <td>PURULIA</td>\n",
       "      <td>2014</td>\n",
       "      <td>Kharif</td>\n",
       "      <td>Moong(Green Gram)</td>\n",
       "      <td>181</td>\n",
       "      <td>100</td>\n",
       "      <td>0.55</td>\n",
       "      <td>2322.6</td>\n",
       "      <td>1</td>\n",
       "      <td>38</td>\n",
       "      <td>10</td>\n",
       "      <td>24</td>\n",
       "      <td>64</td>\n",
       "    </tr>\n",
       "  </tbody>\n",
       "</table>\n",
       "<p>41408 rows × 14 columns</p>\n",
       "</div>"
      ],
      "text/plain": [
       "          State_Name       District_Name  Crop_Year       Season  \\\n",
       "0        Maharashtra             SOLAPUR       2008  Kharif        \n",
       "1        Maharashtra             SOLAPUR       2008  Whole Year    \n",
       "2        Maharashtra             SOLAPUR       2009  Kharif        \n",
       "3      Uttar Pradesh             SITAPUR       2014  Kharif        \n",
       "4        Maharashtra            KOLHAPUR       2009  Kharif        \n",
       "...              ...                 ...        ...          ...   \n",
       "41403    West Bengal          COOCHBEHAR       2011  Summer        \n",
       "41404    West Bengal         MURSHIDABAD       2013  Rabi          \n",
       "41405    West Bengal  24 PARAGANAS SOUTH       2014  Rabi          \n",
       "41406    West Bengal          COOCHBEHAR       2014  Summer        \n",
       "41407    West Bengal             PURULIA       2014  Kharif        \n",
       "\n",
       "                    Crop    Area  Production  Yield  Rainfall..mm.  \\\n",
       "0              Sugarcane  117500     9954400  84.72          916.9   \n",
       "1              Sugarcane  117500     9954400  84.72          916.9   \n",
       "2              Sugarcane  107300     9932600  92.57          941.7   \n",
       "3              Sugarcane  148655     9903396  66.62          486.9   \n",
       "4              Sugarcane  112700     9810000  87.05          941.7   \n",
       "...                  ...     ...         ...    ...            ...   \n",
       "41403  Moong(Green Gram)     167         100   0.60         2418.7   \n",
       "41404          Arhar/Tur      69         100   1.45         2406.1   \n",
       "41405            Linseed     208         100   0.48         2322.6   \n",
       "41406            Sesamum     148         100   0.68         2322.6   \n",
       "41407  Moong(Green Gram)     181         100   0.55         2322.6   \n",
       "\n",
       "       Soil Ph Level  high Temp  low Temp  MeanTemperature  Air humidity  \n",
       "0                  2         40        14               26            59  \n",
       "1                  2         40        14               26            59  \n",
       "2                  2         40        14               26            59  \n",
       "3                  1         43        38               32            71  \n",
       "4                  2         36        13               24            67  \n",
       "...              ...        ...       ...              ...           ...  \n",
       "41403              0         34        29               26            77  \n",
       "41404              2         35        11               26            77  \n",
       "41405              1         36        13               27            75  \n",
       "41406              0         34        29               26            77  \n",
       "41407              1         38        10               24            64  \n",
       "\n",
       "[41408 rows x 14 columns]"
      ]
     },
     "execution_count": 2,
     "metadata": {},
     "output_type": "execute_result"
    }
   ],
   "source": [
    "dataset = pd.read_csv('C:/Users/dalvi/OneDrive/Desktop/Indiancropsd.csv')\n",
    "dataset"
   ]
  },
  {
   "cell_type": "code",
   "execution_count": 3,
   "metadata": {},
   "outputs": [
    {
     "data": {
      "image/png": "[encoded data removed]",
      "text/plain": [
       "<Figure size 432x288 with 1 Axes>"
      ]
     },
     "metadata": {
      "needs_background": "light"
     },
     "output_type": "display_data"
    }
   ],
   "source": [
    "#plotting of production\n",
    "x_axis=dataset.Crop_Year\n",
    "y1_axis=dataset.Production\n",
    "plt.bar(x_axis,y1_axis,color='green')\n",
    "plt.title(\"Year vs Production\")\n",
    "plt.legend([\"Year \",\"Production\"])\n",
    "plt.show()"
   ]
  },
  {
   "cell_type": "code",
   "execution_count": 4,
   "metadata": {},
   "outputs": [
    {
     "data": {
      "image/png": "[encoded data removed]",
      "text/plain": [
       "<Figure size 432x288 with 1 Axes>"
      ]
     },
     "metadata": {
      "needs_background": "light"
     },
     "output_type": "display_data"
    }
   ],
   "source": [
    "#plotting of Area\n",
    "x_axis=dataset.Crop_Year\n",
    "y1_axis=dataset.Area\n",
    "plt.bar(x_axis,y1_axis,color='orange')\n",
    "plt.title(\"Year vs Area\")\n",
    "plt.legend([\"Year \",\"Area\"])\n",
    "plt.show()"
   ]
  },
  {
   "cell_type": "code",
   "execution_count": 5,
   "metadata": {},
   "outputs": [
    {
     "data": {
      "image/png": "[encoded data removed]",
      "text/plain": [
       "<Figure size 432x288 with 1 Axes>"
      ]
     },
     "metadata": {
      "needs_background": "light"
     },
     "output_type": "display_data"
    }
   ],
   "source": [
    "#plotting of Area\n",
    "x_axis=dataset.State_Name\n",
    "y1_axis=dataset.Production\n",
    "plt.bar(x_axis,y1_axis,color='red')\n",
    "plt.title(\"State vs Production\")\n",
    "plt.legend([\"Production \",\"Crops\"])\n",
    "plt.show()"
   ]
  },
  {
   "cell_type": "code",
   "execution_count": 6,
   "metadata": {},
   "outputs": [
    {
     "data": {
      "image/png": "[encoded data removed]",
      "text/plain": [
       "<Figure size 432x288 with 1 Axes>"
      ]
     },
     "metadata": {
      "needs_background": "light"
     },
     "output_type": "display_data"
    }
   ],
   "source": [
    "#plotting of Area\n",
    "x_axis=dataset.Season\n",
    "y1_axis=dataset.Production\n",
    "plt.bar(x_axis,y1_axis,color='purple')\n",
    "plt.xlabel(\"Season\")\n",
    "plt.ylabel(\"Production in tonnes(M)\")\n",
    "plt.title(\"State vs Production\")\n",
    "plt.legend([\"Production \",\"Crops\"])\n",
    "plt.show()"
   ]
  },
  {
   "cell_type": "code",
   "execution_count": 3,
   "metadata": {},
   "outputs": [],
   "source": [
    "feature_cols = ['Crop_Year','Area','Production','Rainfall..mm.','Soil Ph Level','high Temp','low Temp','MeanTemperature','Air humidity']\n",
    "#feature_cols = ['Area','Production','Rainfall..mm.']\n",
    "x = dataset[feature_cols] # Features\n",
    "y = dataset.Yield # Target variable"
   ]
  },
  {
   "cell_type": "code",
   "execution_count": 4,
   "metadata": {},
   "outputs": [],
   "source": [
    "#Splitting the dataset into 70:30 ratio\n",
    "x_train, x_test, y_train, y_test = train_test_split(x, y, test_size=0.30, random_state=0)\n"
   ]
  },
  {
   "cell_type": "code",
   "execution_count": 5,
   "metadata": {},
   "outputs": [
    {
     "name": "stdout",
     "output_type": "stream",
     "text": [
      "Test MAE: 23.72387739841202\n",
      "Test MSE: 467646.5200153326\n",
      "Test RMSE: 683.8468542117691\n",
      "Test R-square: 0.7962901743309185\n",
      "Cross validation RMSE: 471.7030035375314\n",
      "Cross validation accuracy: 0.8728444565576918\n"
     ]
    }
   ],
   "source": [
    "#Gradient Boosting Regressor\n",
    "from sklearn.ensemble import GradientBoostingRegressor\n",
    "gd = GradientBoostingRegressor(learning_rate=0.1, n_estimators=100,max_depth=3, min_samples_split=2, min_samples_leaf=1, subsample=1,max_features='sqrt', random_state=10)\n",
    "gd.fit(x_train, y_train)\n",
    "\n",
    "#pred_train_gd=gd.predict(x_train)\n",
    "#train_error_gd = np.sqrt(mean_squared_error(y_train,pred_train_gd))\n",
    "#print(\"Train RMSE:\",train_error_gd)\n",
    "#train_acc_gd = r2_score(y_train, pred_train_gd)\n",
    "#print(\"Train R-square :\",train_acc_gd)\n",
    "\n",
    "pred_test_gd=gd.predict(x_test)\n",
    "test_mae_gd = metrics.mean_absolute_error(y_test,pred_test_gd)\n",
    "print('Test MAE:',test_mae_gd)\n",
    "test_mse_gd = metrics.mean_squared_error(y_test,pred_test_gd)\n",
    "print('Test MSE:', test_mse_gd)\n",
    "test_error_gd = np.sqrt(mean_squared_error(y_test,pred_test_gd))\n",
    "print(\"Test RMSE:\",test_error_gd)\n",
    "test_acc_gd = r2_score(y_test, pred_test_gd)\n",
    "print(\"Test R-square:\",test_acc_gd)\n",
    "\n",
    "cvr = cross_val_predict(gd,x_train,y_train,cv=10)\n",
    "acc_gd = metrics.r2_score(y_train,cvr)\n",
    "acc_rmse = np.sqrt(mean_squared_error(y_train,cvr))\n",
    "print(\"Cross validation RMSE:\",acc_rmse)\n",
    "print(\"Cross validation accuracy:\",acc_gd)"
   ]
  },
  {
   "cell_type": "code",
   "execution_count": 6,
   "metadata": {},
   "outputs": [
    {
     "name": "stdout",
     "output_type": "stream",
     "text": [
      "Test MAE: 83.37190994342495\n",
      "Test MSE: 2289880.475434965\n",
      "Test RMSE:  1513.235102498936\n",
      "Test R-square: 0.0025133674926185456\n",
      "Cross validation accuracy: 0.0012197073141353432\n"
     ]
    }
   ],
   "source": [
    "#Ridge Regression\n",
    "from sklearn.linear_model import Ridge\n",
    "rr = Ridge(alpha=0.01)\n",
    "rr.fit(x_train, y_train) \n",
    "\n",
    "#pred_train_rr= rr.predict(x_train)\n",
    "#train_error_rr = np.sqrt(mean_squared_error(y_train,pred_train_rr))\n",
    "#print(\"Train RMSE:\",train_error_rr )\n",
    "#train_acc_rr = r2_score(y_train, pred_train_rr)\n",
    "#print(\"Train R-square :\", train_acc_rr)\n",
    "\n",
    "pred_test_rr= rr.predict(x_test)\n",
    "test_mae_rr = metrics.mean_absolute_error(y_test,pred_test_rr)\n",
    "print('Test MAE:',test_mae_rr)\n",
    "test_mse_rr = metrics.mean_squared_error(y_test,pred_test_rr)\n",
    "print('Test MSE:', test_mse_rr)\n",
    "test_error_rr = np.sqrt(mean_squared_error(y_test,pred_test_rr))\n",
    "print(\"Test RMSE: \", test_error_rr) \n",
    "test_acc_rr = r2_score(y_test, pred_test_rr)\n",
    "print(\"Test R-square:\",test_acc_rr)\n",
    "\n",
    "\n",
    "cvr = cross_val_predict(rr,x_train,y_train,cv=10)\n",
    "acc_rr = metrics.r2_score(y_train,cvr)\n",
    "print(\"Cross validation accuracy:\",acc_rr)"
   ]
  },
  {
   "cell_type": "code",
   "execution_count": 7,
   "metadata": {},
   "outputs": [
    {
     "name": "stdout",
     "output_type": "stream",
     "text": [
      "Test MAE: 19.437880702460475\n",
      "Test MSE: 777115.9724390944\n",
      "Test RMSE: 881.5418154796143\n",
      "Test R-square: 0.6614832945511147\n",
      "Cross validation accuracy: 0.7675362692486207\n"
     ]
    }
   ],
   "source": [
    "#Random Forest Regressor\n",
    "rf = RandomForestRegressor(n_estimators=300,random_state=0)\n",
    "rf.fit(x_train,y_train)\n",
    "\n",
    "#pred_train_rf=rf.predict(x_train)\n",
    "#train_error_rf = np.sqrt(mean_squared_error(y_train,pred_train_rf))\n",
    "#print(\"Train RMSE:\",train_error_rf)\n",
    "#train_acc_rf = r2_score(y_train, pred_train_rf)\n",
    "#print(\"Train R-square :\",train_acc_rf)\n",
    "\n",
    "\n",
    "\n",
    "pred_test_rf=rf.predict(x_test)\n",
    "test_mae_rf = metrics.mean_absolute_error(y_test,pred_test_rf)\n",
    "print('Test MAE:',test_mae_rf)\n",
    "test_mse_rf = metrics.mean_squared_error(y_test,pred_test_rf)\n",
    "print('Test MSE:', test_mse_rf)\n",
    "test_error_rf = np.sqrt(mean_squared_error(y_test,pred_test_rf))\n",
    "print(\"Test RMSE:\", test_error_rf)\n",
    "test_acc_rf = r2_score(y_test, pred_test_rf)\n",
    "print(\"Test R-square:\",test_acc_rf)\n",
    "\n",
    "\n",
    "cvr = cross_val_predict(rf,x_train,y_train,cv=10)\n",
    "acc_rf = metrics.r2_score(y_train,cvr)\n",
    "print(\"Cross validation accuracy:\",acc_rf) \n",
    "\n"
   ]
  },
  {
   "cell_type": "code",
   "execution_count": 15,
   "metadata": {},
   "outputs": [
    {
     "name": "stdout",
     "output_type": "stream",
     "text": [
      "Test MAE: 11.846046848587298\n",
      "Test MSE: 423938.07967840304\n",
      "Test RMSE: 651.1052754189625\n",
      "Test R-square: 0.8153298514806843\n",
      "Cross validation accuracy: 0.728518895216477\n"
     ]
    }
   ],
   "source": [
    "#Decision Tree Regressor\n",
    "dt = DecisionTreeRegressor()\n",
    "dt.fit(x_train,y_train)\n",
    "\n",
    "#pred_train_dt=dt.predict(x_train)\n",
    "#train_error_dt = np.sqrt(mean_squared_error(y_train,pred_train_dt))\n",
    "#print(\"Train RMSE:\", train_error_dt)\n",
    "#train_acc_dt = r2_score(y_train, pred_train_dt)\n",
    "#print(\"Train R-square :\",train_acc_dt)\n",
    "\n",
    "\n",
    "pred_test_dt=dt.predict(x_test)\n",
    "test_mae_dt = metrics.mean_absolute_error(y_test,pred_test_dt)\n",
    "print('Test MAE:',test_mae_dt)\n",
    "test_mse_dt = metrics.mean_squared_error(y_test,pred_test_dt)\n",
    "print('Test MSE:', test_mse_dt)\n",
    "test_error_dt = np.sqrt(mean_squared_error(y_test,pred_test_dt))\n",
    "print(\"Test RMSE:\", test_error_dt)\n",
    "test_acc_dt = r2_score(y_test, pred_test_dt)\n",
    "print(\"Test R-square:\", test_acc_dt)\n",
    "\n",
    "\n",
    "cvr = cross_val_predict(dt,x_train,y_train,cv=10)\n",
    "acc_dt = metrics.r2_score(y_train,cvr)\n",
    "print(\"Cross validation accuracy:\",acc_dt)"
   ]
  },
  {
   "cell_type": "code",
   "execution_count": 16,
   "metadata": {},
   "outputs": [
    {
     "name": "stdout",
     "output_type": "stream",
     "text": [
      "Test MAE: 83.37191440846037\n",
      "Test MSE: 2289880.4755220474\n",
      "Test RMSE: 1513.2351025277094\n",
      "Test R-square: 0.0025133674546847784\n",
      "Cross validation accuracy: 0.001219707260710079\n"
     ]
    }
   ],
   "source": [
    "lr = LinearRegression()\n",
    "lr.fit(x_train, y_train)\n",
    "\n",
    "#pred_train_lr=lr.predict(x_train)\n",
    "#train_error_lr = np.sqrt(mean_squared_error(y_train,pred_train_lr))\n",
    "#print(\"Train RMSE:\",train_error_lr)\n",
    "#train_acc_lr = r2_score(y_train, pred_train_lr)\n",
    "#print(\"Train R-square :\",train_acc_lr)\n",
    "\n",
    "\n",
    "\n",
    "pred_test_lr=lr.predict(x_test)\n",
    "test_mae_lr = metrics.mean_absolute_error(y_test,pred_test_lr)\n",
    "print('Test MAE:',test_mae_lr)\n",
    "test_mse_lr = metrics.mean_squared_error(y_test,pred_test_lr)\n",
    "print('Test MSE:', test_mse_lr)\n",
    "test_error_lr = np.sqrt(mean_squared_error(y_test,pred_test_lr))\n",
    "print(\"Test RMSE:\", test_error_lr)\n",
    "test_acc_lr = r2_score(y_test, pred_test_lr)\n",
    "print(\"Test R-square:\",test_acc_lr)\n",
    "\n",
    "\n",
    "cvr = cross_val_predict(lr,x_train,y_train,cv=10)\n",
    "acc_lr = metrics.r2_score(y_train,cvr)\n",
    "print(\"Cross validation accuracy:\",acc_lr)"
   ]
  },
  {
   "cell_type": "code",
   "execution_count": 17,
   "metadata": {},
   "outputs": [
    {
     "data": {
      "text/plain": [
       "LinearRegression(copy_X=True, fit_intercept=True, n_jobs=None, normalize=False)"
      ]
     },
     "execution_count": 17,
     "metadata": {},
     "output_type": "execute_result"
    }
   ],
   "source": [
    "from sklearn.preprocessing import PolynomialFeatures\n",
    "poly=PolynomialFeatures(degree=3)\n",
    "xtrainpoly = poly.fit_transform(x_train)\n",
    "pm = LinearRegression()\n",
    "pm.fit(xtrainpoly,y_train)"
   ]
  },
  {
   "cell_type": "code",
   "execution_count": 18,
   "metadata": {},
   "outputs": [
    {
     "name": "stdout",
     "output_type": "stream",
     "text": [
      "Test MAE: 142.16921074380727\n",
      "Test MSE: 2236684.527687882\n",
      "Test RMSE: 1495.5549229927606\n",
      "Test R-square 0.025685863765026462\n",
      "Cross validation accuracy: 0.001219707260710079\n"
     ]
    }
   ],
   "source": [
    "testpred = pm.predict(poly.fit_transform(x_test))\n",
    "mae_test = metrics.mean_absolute_error(y_test,testpred)\n",
    "print('Test MAE:',mae_test)\n",
    "mse_test = metrics.mean_squared_error(y_test,testpred)\n",
    "print('Test MSE:', mse_test)\n",
    "rmse_test = np.sqrt(mean_squared_error(y_test, testpred))\n",
    "r2_test = r2_score(y_test, testpred)\n",
    "print(\"Test RMSE:\",rmse_test)\n",
    "print(\"Test R-square\",r2_test)\n",
    "\n",
    "cvr = cross_val_predict(pm,x_train,y_train,cv=10)\n",
    "acc_pl = metrics.r2_score(y_train,cvr)\n",
    "print(\"Cross validation accuracy:\",acc_pl)"
   ]
  },
  {
   "cell_type": "code",
   "execution_count": 19,
   "metadata": {},
   "outputs": [
    {
     "data": {
      "text/html": [
       "<div>\n",
       "<style scoped>\n",
       "    .dataframe tbody tr th:only-of-type {\n",
       "        vertical-align: middle;\n",
       "    }\n",
       "\n",
       "    .dataframe tbody tr th {\n",
       "        vertical-align: top;\n",
       "    }\n",
       "\n",
       "    .dataframe thead th {\n",
       "        text-align: right;\n",
       "    }\n",
       "</style>\n",
       "<table border=\"1\" class=\"dataframe\">\n",
       "  <thead>\n",
       "    <tr style=\"text-align: right;\">\n",
       "      <th></th>\n",
       "      <th>Test MAE</th>\n",
       "      <th>Test MSE</th>\n",
       "      <th>Test RMSE</th>\n",
       "      <th>Test R-Square</th>\n",
       "      <th>CrossValidation</th>\n",
       "    </tr>\n",
       "  </thead>\n",
       "  <tbody>\n",
       "    <tr>\n",
       "      <td>Gradient Boosting Regressor</td>\n",
       "      <td>23.723877</td>\n",
       "      <td>4.676465e+05</td>\n",
       "      <td>683.846854</td>\n",
       "      <td>0.796290</td>\n",
       "      <td>0.872844</td>\n",
       "    </tr>\n",
       "    <tr>\n",
       "      <td>Ridge Regression</td>\n",
       "      <td>83.371910</td>\n",
       "      <td>2.289880e+06</td>\n",
       "      <td>1513.235102</td>\n",
       "      <td>0.002513</td>\n",
       "      <td>0.001220</td>\n",
       "    </tr>\n",
       "    <tr>\n",
       "      <td>Random Forest Regressor</td>\n",
       "      <td>19.437881</td>\n",
       "      <td>7.771160e+05</td>\n",
       "      <td>881.541815</td>\n",
       "      <td>0.661483</td>\n",
       "      <td>0.767536</td>\n",
       "    </tr>\n",
       "    <tr>\n",
       "      <td>Decision Tree Regressor</td>\n",
       "      <td>11.846047</td>\n",
       "      <td>4.239381e+05</td>\n",
       "      <td>651.105275</td>\n",
       "      <td>0.815330</td>\n",
       "      <td>0.728519</td>\n",
       "    </tr>\n",
       "    <tr>\n",
       "      <td>Linear Regression</td>\n",
       "      <td>83.371914</td>\n",
       "      <td>2.289880e+06</td>\n",
       "      <td>1513.235103</td>\n",
       "      <td>0.002513</td>\n",
       "      <td>0.001220</td>\n",
       "    </tr>\n",
       "    <tr>\n",
       "      <td>Polynomial Regression</td>\n",
       "      <td>142.169211</td>\n",
       "      <td>2.236685e+06</td>\n",
       "      <td>1495.554923</td>\n",
       "      <td>0.025686</td>\n",
       "      <td>0.001220</td>\n",
       "    </tr>\n",
       "  </tbody>\n",
       "</table>\n",
       "</div>"
      ],
      "text/plain": [
       "                               Test MAE      Test MSE    Test RMSE  \\\n",
       "Gradient Boosting Regressor   23.723877  4.676465e+05   683.846854   \n",
       "Ridge Regression              83.371910  2.289880e+06  1513.235102   \n",
       "Random Forest Regressor       19.437881  7.771160e+05   881.541815   \n",
       "Decision Tree Regressor       11.846047  4.239381e+05   651.105275   \n",
       "Linear Regression             83.371914  2.289880e+06  1513.235103   \n",
       "Polynomial Regression        142.169211  2.236685e+06  1495.554923   \n",
       "\n",
       "                             Test R-Square  CrossValidation  \n",
       "Gradient Boosting Regressor       0.796290         0.872844  \n",
       "Ridge Regression                  0.002513         0.001220  \n",
       "Random Forest Regressor           0.661483         0.767536  \n",
       "Decision Tree Regressor           0.815330         0.728519  \n",
       "Linear Regression                 0.002513         0.001220  \n",
       "Polynomial Regression             0.025686         0.001220  "
      ]
     },
     "execution_count": 19,
     "metadata": {},
     "output_type": "execute_result"
    }
   ],
   "source": [
    "MAE=[test_mae_gd,test_mae_rr,test_mae_rf,test_mae_dt,test_mae_lr,mae_test]\n",
    "MSE=[test_mse_gd,test_mse_rr,test_mse_rf,test_mse_dt,test_mse_lr,mse_test]\n",
    "RMSE=[test_error_gd,test_error_rr,test_error_rf,test_error_dt,test_error_lr,rmse_test]\n",
    "RS=[test_acc_gd,test_acc_rr,test_acc_rf,test_acc_dt,test_acc_lr, r2_test]\n",
    "cv=[acc_gd,acc_rr,acc_rf,acc_dt,acc_lr, acc_pl]\n",
    "col={'Test MAE': MAE,'Test MSE': MSE,'Test RMSE': RMSE, 'Test R-Square': RS,'CrossValidation': cv}\n",
    "models=['Gradient Boosting Regressor','Ridge Regression', 'Random Forest Regressor','Decision Tree Regressor','Linear Regression','Polynomial Regression']\n",
    "df1 = pd.DataFrame(data=col , index=models)\n",
    "df1"
   ]
  },
  {
   "cell_type": "code",
   "execution_count": 33,
   "metadata": {},
   "outputs": [],
   "source": [
    "df1.to_csv('YieldResult.csv')"
   ]
  },
  {
   "cell_type": "code",
   "execution_count": 21,
   "metadata": {},
   "outputs": [],
   "source": [
    "feature_cols = ['Crop_Year','Area','Yield','Rainfall..mm.','Soil Ph Level','high Temp','low Temp','MeanTemperature','Air humidity']\n",
    "x = dataset[feature_cols] # Features\n",
    "y = dataset.Production # Target variable"
   ]
  },
  {
   "cell_type": "code",
   "execution_count": 22,
   "metadata": {},
   "outputs": [],
   "source": [
    "x_train, x_test, y_train, y_test = train_test_split(x, y, test_size=0.30, random_state=42)"
   ]
  },
  {
   "cell_type": "code",
   "execution_count": 23,
   "metadata": {},
   "outputs": [
    {
     "name": "stdout",
     "output_type": "stream",
     "text": [
      "Test MAE: 33085.36868419011\n",
      "Test MSE: 13785989928.73461\n",
      "Test RMSE: 117413.75527907541\n",
      "Test R-square: 0.9378924424709497\n",
      "Cross validation accuracy: 0.9402892011577452\n"
     ]
    }
   ],
   "source": [
    "#Gradient Boosting Regressor\n",
    "from sklearn.ensemble import GradientBoostingRegressor\n",
    "gd = GradientBoostingRegressor(learning_rate=0.1, n_estimators=100,max_depth=3, min_samples_split=2, min_samples_leaf=1, subsample=1,max_features='sqrt', random_state=0)\n",
    "gd.fit(x_train, y_train)\n",
    "\n",
    "#pred_train_gd=gd.predict(x_train)\n",
    "#train_error_gd = np.sqrt(mean_squared_error(y_train,pred_train_gd))\n",
    "#print(\"Train RMSE:\",train_error_gd)\n",
    "#train_acc_gd = r2_score(y_train, pred_train_gd)\n",
    "#print(\"Train R-square :\",train_acc_gd)\n",
    "\n",
    "pred_test_gd=gd.predict(x_test)\n",
    "test_mae_gd = metrics.mean_absolute_error(y_test,pred_test_gd)\n",
    "print('Test MAE:',test_mae_gd)\n",
    "test_mse_gd = metrics.mean_squared_error(y_test,pred_test_gd)\n",
    "print('Test MSE:', test_mse_gd)\n",
    "test_error_gd = np.sqrt(mean_squared_error(y_test,pred_test_gd))\n",
    "print(\"Test RMSE:\",test_error_gd)\n",
    "test_acc_gd = r2_score(y_test, pred_test_gd)\n",
    "print(\"Test R-square:\",test_acc_gd)\n",
    "\n",
    "cvr = cross_val_predict(gd,x_train,y_train,cv=10)\n",
    "acc_gd = metrics.r2_score(y_train,cvr)\n",
    "#acc_rmse = np.sqrt(mean_squared_error(y_train,cvr))\n",
    "#print(\"Cross validation RMSE:\",acc_rmse)\n",
    "print(\"Cross validation accuracy:\",acc_gd)"
   ]
  },
  {
   "cell_type": "code",
   "execution_count": 24,
   "metadata": {},
   "outputs": [
    {
     "name": "stdout",
     "output_type": "stream",
     "text": [
      "Test MAE: 110728.21085525221\n",
      "Test MSE: 196122686603.28885\n",
      "Test RMSE:  442857.4111418808\n",
      "Test R-square: 0.11644349778777896\n",
      "Cross validation accuracy: 0.10971721728936357\n"
     ]
    }
   ],
   "source": [
    "#Ridge Regression\n",
    "from sklearn.linear_model import Ridge\n",
    "rr = Ridge(alpha=0.01)\n",
    "rr.fit(x_train, y_train) \n",
    "\n",
    "#pred_train_rr= rr.predict(x_train)\n",
    "#train_error_rr = np.sqrt(mean_squared_error(y_train,pred_train_rr))\n",
    "#print(\"Train RMSE:\",train_error_rr )\n",
    "#train_acc_rr = r2_score(y_train, pred_train_rr)\n",
    "#print(\"Train R-square :\", train_acc_rr)\n",
    "\n",
    "pred_test_rr= rr.predict(x_test)\n",
    "test_mae_rr = metrics.mean_absolute_error(y_test,pred_test_rr)\n",
    "print('Test MAE:',test_mae_rr)\n",
    "test_mse_rr = metrics.mean_squared_error(y_test,pred_test_rr)\n",
    "print('Test MSE:', test_mse_rr)\n",
    "test_error_rr = np.sqrt(mean_squared_error(y_test,pred_test_rr))\n",
    "print(\"Test RMSE: \", test_error_rr) \n",
    "test_acc_rr = r2_score(y_test, pred_test_rr)\n",
    "print(\"Test R-square:\",test_acc_rr)\n",
    "\n",
    "\n",
    "cvr = cross_val_predict(rr,x_train,y_train,cv=10)\n",
    "acc_rr = metrics.r2_score(y_train,cvr)\n",
    "print(\"Cross validation accuracy:\",acc_rr)"
   ]
  },
  {
   "cell_type": "code",
   "execution_count": 25,
   "metadata": {},
   "outputs": [
    {
     "name": "stdout",
     "output_type": "stream",
     "text": [
      "Test MAE: 3560.0274445249406\n",
      "Test MSE: 1076494111.785776\n",
      "Test RMSE: 32809.96970107982\n",
      "Test R-square: 0.9951502633961697\n",
      "Cross validation accuracy: 0.989678093101782\n"
     ]
    }
   ],
   "source": [
    "#Random Forest Regressor\n",
    "rf = RandomForestRegressor(n_estimators=300,random_state=0)\n",
    "rf.fit(x_train,y_train)\n",
    "\n",
    "#pred_train_rf=rf.predict(x_train)\n",
    "#train_error_rf = np.sqrt(mean_squared_error(y_train,pred_train_rf))\n",
    "#print(\"Train RMSE:\",train_error_rf)\n",
    "#train_acc_rf = r2_score(y_train, pred_train_rf)\n",
    "#print(\"Train R-square :\",train_acc_rf)\n",
    "\n",
    "\n",
    "\n",
    "pred_test_rf=rf.predict(x_test)\n",
    "test_mae_rf = metrics.mean_absolute_error(y_test,pred_test_rf)\n",
    "print('Test MAE:',test_mae_rf)\n",
    "test_mse_rf = metrics.mean_squared_error(y_test,pred_test_rf)\n",
    "print('Test MSE:', test_mse_rf)\n",
    "test_error_rf = np.sqrt(mean_squared_error(y_test,pred_test_rf))\n",
    "print(\"Test RMSE:\", test_error_rf)\n",
    "test_acc_rf = r2_score(y_test, pred_test_rf)\n",
    "print(\"Test R-square:\",test_acc_rf)\n",
    "\n",
    "\n",
    "cvr = cross_val_predict(rf,x_train,y_train,cv=10)\n",
    "acc_rf = metrics.r2_score(y_train,cvr)\n",
    "print(\"Cross validation accuracy:\",acc_rf)\n",
    "\n"
   ]
  },
  {
   "cell_type": "code",
   "execution_count": 26,
   "metadata": {},
   "outputs": [
    {
     "name": "stdout",
     "output_type": "stream",
     "text": [
      "Test MAE: 5789.73508814296\n",
      "Test MSE: 1669599705.4578605\n",
      "Test RMSE: 40860.735498248934\n",
      "Test R-square: 0.9924782507245943\n",
      "Cross validation accuracy: 0.9847234979021244\n"
     ]
    }
   ],
   "source": [
    "#Decision Tree Regressor\n",
    "dt = DecisionTreeRegressor()\n",
    "dt.fit(x_train,y_train)\n",
    "\n",
    "#pred_train_dt=dt.predict(x_train)\n",
    "#train_error_dt = np.sqrt(mean_squared_error(y_train,pred_train_dt))\n",
    "#print(\"Train RMSE:\", train_error_dt)\n",
    "#train_acc_dt = r2_score(y_train, pred_train_dt)\n",
    "#print(\"Train R-square :\",train_acc_dt)\n",
    "\n",
    "\n",
    "pred_test_dt=dt.predict(x_test)\n",
    "test_mae_dt = metrics.mean_absolute_error(y_test,pred_test_dt)\n",
    "print('Test MAE:',test_mae_dt)\n",
    "test_mse_dt = metrics.mean_squared_error(y_test,pred_test_dt)\n",
    "print('Test MSE:', test_mse_dt)\n",
    "test_error_dt = np.sqrt(mean_squared_error(y_test,pred_test_dt))\n",
    "print(\"Test RMSE:\", test_error_dt)\n",
    "test_acc_dt = r2_score(y_test, pred_test_dt)\n",
    "print(\"Test R-square:\", test_acc_dt)\n",
    "\n",
    "\n",
    "cvr = cross_val_predict(dt,x_train,y_train,cv=10)\n",
    "acc_dt = metrics.r2_score(y_train,cvr)\n",
    "print(\"Cross validation accuracy:\",acc_dt)"
   ]
  },
  {
   "cell_type": "code",
   "execution_count": 27,
   "metadata": {},
   "outputs": [
    {
     "name": "stdout",
     "output_type": "stream",
     "text": [
      "Test MAE: 110728.21144361267\n",
      "Test MSE: 196122686714.2522\n",
      "Test RMSE: 442857.41126716195\n",
      "Test R-square: 0.11644349728787562\n",
      "Cross validation accuracy: 0.10971721725028838\n"
     ]
    }
   ],
   "source": [
    "lr = LinearRegression()\n",
    "lr.fit(x_train, y_train)\n",
    "\n",
    "#pred_train_lr=lr.predict(x_train)\n",
    "#train_error_lr = np.sqrt(mean_squared_error(y_train,pred_train_lr))\n",
    "#print(\"Train RMSE:\",train_error_lr)\n",
    "#train_acc_lr = r2_score(y_train, pred_train_lr)\n",
    "#print(\"Train R-square :\",train_acc_lr)\n",
    "\n",
    "\n",
    "\n",
    "pred_test_lr=lr.predict(x_test)\n",
    "test_mae_lr = metrics.mean_absolute_error(y_test,pred_test_lr)\n",
    "print('Test MAE:',test_mae_lr)\n",
    "test_mse_lr = metrics.mean_squared_error(y_test,pred_test_lr)\n",
    "print('Test MSE:', test_mse_lr)\n",
    "test_error_lr = np.sqrt(mean_squared_error(y_test,pred_test_lr))\n",
    "print(\"Test RMSE:\", test_error_lr)\n",
    "test_acc_lr = r2_score(y_test, pred_test_lr)\n",
    "print(\"Test R-square:\",test_acc_lr)\n",
    "\n",
    "\n",
    "cvr = cross_val_predict(lr,x_train,y_train,cv=10)\n",
    "acc_lr = metrics.r2_score(y_train,cvr)\n",
    "print(\"Cross validation accuracy:\",acc_lr)"
   ]
  },
  {
   "cell_type": "code",
   "execution_count": 28,
   "metadata": {},
   "outputs": [
    {
     "data": {
      "text/plain": [
       "LinearRegression(copy_X=True, fit_intercept=True, n_jobs=None, normalize=False)"
      ]
     },
     "execution_count": 28,
     "metadata": {},
     "output_type": "execute_result"
    }
   ],
   "source": [
    "from sklearn.preprocessing import PolynomialFeatures\n",
    "poly=PolynomialFeatures(degree=5)\n",
    "xtrainpoly = poly.fit_transform(x_train)\n",
    "pm = LinearRegression()\n",
    "pm.fit(xtrainpoly,y_train)"
   ]
  },
  {
   "cell_type": "code",
   "execution_count": 29,
   "metadata": {},
   "outputs": [
    {
     "name": "stdout",
     "output_type": "stream",
     "text": [
      "Test MAE: 2607.922249804022\n",
      "Test MSE: 16222228026.926811\n",
      "Test RMSE: 127366.51061769263\n",
      "Test R-square 0.9269168942063628\n",
      "Cross validation accuracy: 0.10971721725028838\n"
     ]
    }
   ],
   "source": [
    "testpred = pm.predict(poly.fit_transform(x_test))\n",
    "mae_test = metrics.mean_absolute_error(y_test,testpred)\n",
    "print('Test MAE:',mae_test)\n",
    "mse_test = metrics.mean_squared_error(y_test,testpred)\n",
    "print('Test MSE:', mse_test)\n",
    "rmse_test = np.sqrt(mean_squared_error(y_test, testpred))\n",
    "r2_test = r2_score(y_test, testpred)\n",
    "print(\"Test RMSE:\",rmse_test)\n",
    "print(\"Test R-square\",r2_test)\n",
    "\n",
    "cvr = cross_val_predict(pm,x_train,y_train,cv=10)\n",
    "acc_pl = metrics.r2_score(y_train,cvr)\n",
    "print(\"Cross validation accuracy:\",acc_pl)"
   ]
  },
  {
   "cell_type": "code",
   "execution_count": 30,
   "metadata": {},
   "outputs": [
    {
     "data": {
      "text/html": [
       "<div>\n",
       "<style scoped>\n",
       "    .dataframe tbody tr th:only-of-type {\n",
       "        vertical-align: middle;\n",
       "    }\n",
       "\n",
       "    .dataframe tbody tr th {\n",
       "        vertical-align: top;\n",
       "    }\n",
       "\n",
       "    .dataframe thead th {\n",
       "        text-align: right;\n",
       "    }\n",
       "</style>\n",
       "<table border=\"1\" class=\"dataframe\">\n",
       "  <thead>\n",
       "    <tr style=\"text-align: right;\">\n",
       "      <th></th>\n",
       "      <th>Test MAE</th>\n",
       "      <th>Test MSE</th>\n",
       "      <th>Test RMSE</th>\n",
       "      <th>Test R-Square</th>\n",
       "      <th>CrossValidation</th>\n",
       "    </tr>\n",
       "  </thead>\n",
       "  <tbody>\n",
       "    <tr>\n",
       "      <td>Gradient Boosting Regressor</td>\n",
       "      <td>33085.368684</td>\n",
       "      <td>1.378599e+10</td>\n",
       "      <td>117413.755279</td>\n",
       "      <td>0.937892</td>\n",
       "      <td>0.940289</td>\n",
       "    </tr>\n",
       "    <tr>\n",
       "      <td>Ridge Regression</td>\n",
       "      <td>110728.210855</td>\n",
       "      <td>1.961227e+11</td>\n",
       "      <td>442857.411142</td>\n",
       "      <td>0.116443</td>\n",
       "      <td>0.109717</td>\n",
       "    </tr>\n",
       "    <tr>\n",
       "      <td>Random Forest Regressor</td>\n",
       "      <td>3560.027445</td>\n",
       "      <td>1.076494e+09</td>\n",
       "      <td>32809.969701</td>\n",
       "      <td>0.995150</td>\n",
       "      <td>0.989678</td>\n",
       "    </tr>\n",
       "    <tr>\n",
       "      <td>Decision Tree Regressor</td>\n",
       "      <td>5789.735088</td>\n",
       "      <td>1.669600e+09</td>\n",
       "      <td>40860.735498</td>\n",
       "      <td>0.992478</td>\n",
       "      <td>0.984723</td>\n",
       "    </tr>\n",
       "    <tr>\n",
       "      <td>Linear Regression</td>\n",
       "      <td>110728.211444</td>\n",
       "      <td>1.961227e+11</td>\n",
       "      <td>442857.411267</td>\n",
       "      <td>0.116443</td>\n",
       "      <td>0.109717</td>\n",
       "    </tr>\n",
       "    <tr>\n",
       "      <td>Polynomial Regression</td>\n",
       "      <td>2607.922250</td>\n",
       "      <td>1.622223e+10</td>\n",
       "      <td>127366.510618</td>\n",
       "      <td>0.926917</td>\n",
       "      <td>0.109717</td>\n",
       "    </tr>\n",
       "  </tbody>\n",
       "</table>\n",
       "</div>"
      ],
      "text/plain": [
       "                                  Test MAE      Test MSE      Test RMSE  \\\n",
       "Gradient Boosting Regressor   33085.368684  1.378599e+10  117413.755279   \n",
       "Ridge Regression             110728.210855  1.961227e+11  442857.411142   \n",
       "Random Forest Regressor        3560.027445  1.076494e+09   32809.969701   \n",
       "Decision Tree Regressor        5789.735088  1.669600e+09   40860.735498   \n",
       "Linear Regression            110728.211444  1.961227e+11  442857.411267   \n",
       "Polynomial Regression          2607.922250  1.622223e+10  127366.510618   \n",
       "\n",
       "                             Test R-Square  CrossValidation  \n",
       "Gradient Boosting Regressor       0.937892         0.940289  \n",
       "Ridge Regression                  0.116443         0.109717  \n",
       "Random Forest Regressor           0.995150         0.989678  \n",
       "Decision Tree Regressor           0.992478         0.984723  \n",
       "Linear Regression                 0.116443         0.109717  \n",
       "Polynomial Regression             0.926917         0.109717  "
      ]
     },
     "execution_count": 30,
     "metadata": {},
     "output_type": "execute_result"
    }
   ],
   "source": [
    "MAE=[test_mae_gd,test_mae_rr,test_mae_rf,test_mae_dt,test_mae_lr,mae_test]\n",
    "MSE=[test_mse_gd,test_mse_rr,test_mse_rf,test_mse_dt,test_mse_lr,mse_test]\n",
    "RMSE=[test_error_gd,test_error_rr,test_error_rf,test_error_dt,test_error_lr,rmse_test]\n",
    "RS=[test_acc_gd,test_acc_rr,test_acc_rf,test_acc_dt,test_acc_lr,r2_test]\n",
    "cv=[acc_gd,acc_rr,acc_rf,acc_dt,acc_lr,acc_pl]\n",
    "col={'Test MAE': MAE,'Test MSE': MSE,'Test RMSE': RMSE, 'Test R-Square': RS,'CrossValidation': cv}\n",
    "models=['Gradient Boosting Regressor','Ridge Regression', 'Random Forest Regressor','Decision Tree Regressor','Linear Regression','Polynomial Regression']\n",
    "df = pd.DataFrame(data=col , index=models)\n",
    "df"
   ]
  },
  {
   "cell_type": "code",
   "execution_count": 32,
   "metadata": {},
   "outputs": [],
   "source": [
    "df.to_csv('ProductionResult.csv')"
   ]
  },
  {
   "cell_type": "code",
   "execution_count": null,
   "metadata": {},
   "outputs": [],
   "source": []
  }
 ],
 "metadata": {
  "kernelspec": {
   "display_name": "Python 3",
   "language": "python",
   "name": "python3"
  },
  "language_info": {
   "codemirror_mode": {
    "name": "ipython",
    "version": 3
   },
   "file_extension": ".py",
   "mimetype": "text/x-python",
   "name": "python",
   "nbconvert_exporter": "python",
   "pygments_lexer": "ipython3",
   "version": "3.7.4"
  }
 },
 "nbformat": 4,
 "nbformat_minor": 2
}
